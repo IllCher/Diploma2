{
  "cells": [
    {
      "cell_type": "markdown",
      "metadata": {
        "id": "Ki6PgUkvj_u8"
      },
      "source": [
        "# Библиотеки"
      ]
    },
    {
      "cell_type": "code",
      "execution_count": 109,
      "metadata": {
        "id": "0pNfDT6-j93X"
      },
      "outputs": [],
      "source": [
        "import math\n",
        "import numpy as np\n",
        "from IPython.display import clear_output\n",
        "from tqdm import tqdm_notebook as tqdm\n",
        "\n",
        "import matplotlib as mpl\n",
        "import matplotlib.pyplot as plt\n",
        "%matplotlib inline\n",
        "import seaborn as sns\n",
        "import matplotlib as mpl\n",
        "import matplotlib.cm as cm\n",
        "\n",
        "import torch\n",
        "from torch import Tensor\n",
        "from torch import nn\n",
        "from torch.nn  import functional as F \n",
        "from torch.autograd import Variable\n",
        "\n",
        "use_cuda = torch.cuda.is_available()"
      ]
    },
    {
      "cell_type": "markdown",
      "metadata": {
        "id": "L7qzZ793kF18"
      },
      "source": [
        "## Сначала решаем ОДУ Эйлером"
      ]
    },
    {
      "cell_type": "code",
      "execution_count": 110,
      "metadata": {
        "id": "Syq0cH5IkJVs"
      },
      "outputs": [],
      "source": [
        "def euler_solve(h, t, t_last, f, maxh = 0.05):\n",
        "    n_steps = math.ceil(abs(t_last - t) / maxh)\n",
        "\n",
        "    time_step = (t_last - t)/n_steps\n",
        "    for i in range(n_steps):\n",
        "        h = h + time_step * f(h, t) \n",
        "        t = t + time_step\n",
        "    return h"
      ]
    },
    {
      "cell_type": "markdown",
      "metadata": {
        "id": "yvIEVvjBk6mw"
      },
      "source": [
        "Теперь рассмотрим прямое и обратное распространнеие в ОДУ"
      ]
    },
    {
      "cell_type": "code",
      "execution_count": 111,
      "metadata": {
        "id": "IpShLxMOk6Q0"
      },
      "outputs": [],
      "source": [
        "class MYF(nn.Module):\n",
        "    def forward_with_grad(self, z, t, grad_outputs):\n",
        "        batch_size = z.shape[0]\n",
        "        out = self.forward(z, t)\n",
        "        a = grad_outputs\n",
        "        dz, dt, *dp = torch.autograd.grad((out,), (z, t) + tuple(self.parameters()), grad_outputs=(a), allow_unused=True)\n",
        "        dp = torch.cat([p_grad.flatten() for p_grad in dp]).unsqueeze(0)\n",
        "        dp = dp.expand(batch_size, -1) / batch_size\n",
        "        if dt is not None:\n",
        "          dt = dt.expand(batch_size, 1) / batch_size\n",
        "        return out, dz, dt, dp\n",
        "\n",
        "    def flatten_parameters(self):\n",
        "        p_shapes = []\n",
        "        flat_parameters = []\n",
        "        for p in self.parameters():\n",
        "            p_shapes.append(p.size())\n",
        "            flat_parameters.append(p.flatten())\n",
        "        return torch.cat(flat_parameters)\n",
        "\n",
        "class Adjoint(torch.autograd.Function):\n",
        "    @staticmethod\n",
        "    def forward(args, z0, t, flat_parameters, func):\n",
        "        assert isinstance(func, MYF)\n",
        "        bs, *z_shape = z0.size()\n",
        "        with torch.no_grad():\n",
        "            z = torch.zeros(t.size(0), bs, *z_shape).to(z0)\n",
        "            z[0] = z0\n",
        "            for i in range(t.size(0) - 1):\n",
        "                z0 = euler_solve(z0, t[i], t[i + 1], func)\n",
        "                z[i + 1] = z0\n",
        "\n",
        "        args.func = func\n",
        "        args.save_for_backward(t, z.clone(), flat_parameters)\n",
        "        return z\n",
        "\n",
        "    @staticmethod\n",
        "    def backward(args, dLdz):\n",
        "\n",
        "        func = args.func\n",
        "        t, z, flat_parameters = args.saved_tensors\n",
        "        time_len, bs, *z_shape = z.size()\n",
        "        n_dim = np.prod(z_shape)\n",
        "        n_params = flat_parameters.size(0)\n",
        "\n",
        "        def augmented_dynamics(aug_z_i, t_i):\n",
        "            z_i, a = aug_z_i[:, :n_dim], aug_z_i[:, n_dim:2*n_dim]  \n",
        "            z_i = z_i.view(bs, *z_shape)\n",
        "            a = a.view(bs, *z_shape)\n",
        "            with torch.set_grad_enabled(True):\n",
        "                t_i = t_i.detach().requires_grad_(True)\n",
        "                z_i = z_i.detach().requires_grad_(True)\n",
        "\n",
        "                faug = func.forward_with_grad(z_i, t_i, grad_outputs=a)\n",
        "                func_eval, dz, dt, dp = faug\n",
        "\n",
        "                dz = dz if dz is not None else torch.zeros(bs, *z_shape)\n",
        "                dp = dp if dp is not None else torch.zeros(bs, n_params)\n",
        "                dt = dt if dt is not None else torch.zeros(bs, 1)\n",
        "                dz = dz.to(z_i)\n",
        "                dp = dp.to(z_i)\n",
        "                dt = dt.to(z_i)\n",
        "            func_eval = func_eval.view(bs, n_dim)\n",
        "            adfdz = dz.view(bs, n_dim) \n",
        "            return torch.cat((func_eval, -dz, -dp, -dt), dim=1)\n",
        "\n",
        "        dLdz = dLdz.view(time_len, bs, n_dim)\n",
        "        with torch.no_grad():\n",
        "            adj_z = torch.zeros(bs, n_dim).to(dLdz)\n",
        "            adj_p = torch.zeros(bs, n_params).to(dLdz)\n",
        "            adj_t = torch.zeros(time_len, bs, 1).to(dLdz)\n",
        "\n",
        "            for i_t in range(time_len-1, 0, -1):\n",
        "                z_i = z[i_t]\n",
        "                t_i = t[i_t]\n",
        "                f_i = func(z_i, t_i).view(bs, n_dim)\n",
        "                dLdz_i = dLdz[i_t]\n",
        "                dLdt_i = torch.bmm(torch.transpose(dLdz_i.unsqueeze(-1), 1, 2), f_i.unsqueeze(-1))[:, 0]\n",
        "\n",
        "                adj_z += dLdz_i\n",
        "                adj_t[i_t] = adj_t[i_t] - dLdt_i\n",
        "\n",
        "                aug_z = torch.cat((z_i.view(bs, n_dim), adj_z, torch.zeros(bs, n_params).to(z), adj_t[i_t]), dim=-1)\n",
        "\n",
        "                aug_ans = euler_solve(aug_z, t_i, t[i_t-1], augmented_dynamics)\n",
        "                adj_z[:] = aug_ans[:, n_dim:2*n_dim]\n",
        "                adj_p[:] += aug_ans[:, 2*n_dim:2*n_dim + n_params]\n",
        "                adj_t[i_t-1] = aug_ans[:, 2*n_dim + n_params:]\n",
        "\n",
        "                del aug_z, aug_ans\n",
        "\n",
        "            dLdz_0 = dLdz[0]\n",
        "            dLdt_0 = torch.bmm(torch.transpose(dLdz_0.unsqueeze(-1), 1, 2), f_i.unsqueeze(-1))[:, 0]\n",
        "\n",
        "            adj_z += dLdz_0\n",
        "            adj_t[0] = adj_t[0] - dLdt_0\n",
        "        return adj_z.view(bs, *z_shape), adj_t, adj_p, None"
      ]
    },
    {
      "cell_type": "markdown",
      "metadata": {
        "id": "MOTMhf88lYsT"
      },
      "source": [
        "Обернем всё в классы"
      ]
    },
    {
      "cell_type": "code",
      "execution_count": 112,
      "metadata": {
        "id": "i97pmKC1lYVs"
      },
      "outputs": [],
      "source": [
        "class HelperClass(nn.Module):\n",
        "    def __init__(self, func):\n",
        "        super(HelperClass, self).__init__()\n",
        "        self.func = func\n",
        "\n",
        "    def forward(self, z0, t=Tensor([0., 1.]), return_whole_sequence=False):\n",
        "        t = t.to(z0)\n",
        "        z = Adjoint.apply(z0, t, self.func.flatten_parameters(), self.func)\n",
        "        if return_whole_sequence:\n",
        "            return z\n",
        "        else:\n",
        "            return z[-1]"
      ]
    },
    {
      "cell_type": "markdown",
      "metadata": {
        "id": "XJOSR3GyyDz2"
      },
      "source": [
        "# Интерполяция"
      ]
    },
    {
      "cell_type": "code",
      "execution_count": 113,
      "metadata": {
        "id": "lhSU7pWuUl4I"
      },
      "outputs": [],
      "source": [
        "class Linearlayer(MYF):\n",
        "    def __init__(self, W):\n",
        "        super(Linearlayer, self).__init__()\n",
        "        self.linear_layer = nn.Linear(2, 2, bias=False)\n",
        "        self.linear_layer.weight = nn.Parameter(W)\n",
        "\n",
        "    def forward(self, x, t):\n",
        "        return self.linear_layer(x)\n",
        "\n",
        "class SpiralFunctionExample(Linearlayer):\n",
        "    def __init__(self):\n",
        "        matrix = Tensor([[-0.1, -1.], [1., -0.1]])\n",
        "        super(SpiralFunctionExample, self).__init__(matrix)\n",
        "\n",
        "class RandomParams(Linearlayer):\n",
        "    def __init__(self):\n",
        "        super(RandomParams, self).__init__(torch.randn(2, 2)/2.)\n",
        "\n",
        "\n",
        "class Test(MYF):\n",
        "    def __init__(self, A, B, x0):\n",
        "        super(Test, self).__init__()\n",
        "        self.A = nn.Linear(2, 2, bias=False)\n",
        "        self.A.weight = nn.Parameter(A)\n",
        "        self.B = nn.Linear(2, 2, bias=False)\n",
        "        self.B.weight = nn.Parameter(B)\n",
        "        self.x0 = nn.Parameter(x0)\n",
        "\n",
        "    def forward(self, x, t):\n",
        "        xTx0 = torch.sum(x*self.x0, dim=1)\n",
        "        dxdt = torch.sigmoid(xTx0) * self.A(x - self.x0) + torch.sigmoid(-xTx0) * self.B(x + self.x0)\n",
        "        return dxdt\n",
        "\n",
        "class DynamicsBlock(MYF):\n",
        "    def __init__(self, in_dim, hid_dim, time_invariant=False):\n",
        "        super(DynamicsBlock, self).__init__()\n",
        "        self.time_invariant = time_invariant\n",
        "\n",
        "        if time_invariant:\n",
        "            self.linear_layer1 = nn.Linear(in_dim, hid_dim)\n",
        "        else:\n",
        "            self.linear_layer1 = nn.Linear(in_dim+1, hid_dim)\n",
        "        self.linear_layer2 = nn.Linear(hid_dim, hid_dim)\n",
        "        self.linear_layer3 = nn.Linear(hid_dim, in_dim)\n",
        "        self.elu = nn.ELU(inplace=True)\n",
        "\n",
        "    def forward(self, x, t):\n",
        "        if not self.time_invariant:\n",
        "            x = torch.cat((x, t), dim=-1)\n",
        "\n",
        "        h = self.elu(self.linear_layer1(x))\n",
        "        h = self.elu(self.linear_layer2(h))\n",
        "        out = self.linear_layer3(h)\n",
        "        return out\n",
        "\n",
        "def to_np(x):\n",
        "    return x.detach().cpu().numpy()\n",
        "\n",
        "def plot_trajectories(obs=None, times=None, trajs=None, save=None, figsize=(16, 8)):\n",
        "    plt.figure(figsize=figsize)\n",
        "    if obs is not None:\n",
        "        if times is None:\n",
        "            times = [None] * len(obs)\n",
        "        for o, t in zip(obs, times):\n",
        "            o, t = to_np(o), to_np(t)\n",
        "            for b_i in range(o.shape[1]):\n",
        "                plt.scatter(o[:, b_i, 0], o[:, b_i, 1], c=t[:, b_i, 0])\n",
        "    if trajs is not None: \n",
        "        for z in trajs:\n",
        "            z = to_np(z)\n",
        "            plt.plot(z[:, 0, 0], z[:, 0, 1], lw=1.5)\n",
        "\n",
        "    plt.show()\n"
      ]
    },
    {
      "cell_type": "markdown",
      "metadata": {
        "id": "KZfuBFbjJTMk"
      },
      "source": [
        "## Test "
      ]
    },
    {
      "cell_type": "code",
      "execution_count": 114,
      "metadata": {
        "id": "ymT39EdOLTDh"
      },
      "outputs": [],
      "source": [
        "def test_out(true, trained, n_steps, plot_freq=10):\n",
        "    z0 = Variable(torch.Tensor([[0.6, 0.3]]))\n",
        "\n",
        "    t_max = 5*5\n",
        "    n_points = 200\n",
        "\n",
        "    index_np = np.arange(0, n_points, 1, dtype=np.int)\n",
        "    index_np = np.hstack([index_np[:, None]])\n",
        "    times_np = np.linspace(0, t_max, num=n_points)\n",
        "    times_np = np.hstack([times_np[:, None]])\n",
        "\n",
        "    times = torch.from_numpy(times_np[:, :, None]).to(z0)\n",
        "    obs = true(z0, times, return_whole_sequence=True).detach()\n",
        "    obs = obs + torch.randn_like(obs) * 0.01\n",
        "\n",
        "    min_delta_time = 1.0\n",
        "    max_delta_time = 5.0\n",
        "    max_points_num = 32\n",
        "    def create_batch():\n",
        "        t0 = np.random.uniform(0, t_max - max_delta_time)\n",
        "        t1 = t0 + np.random.uniform(min_delta_time, max_delta_time)\n",
        "\n",
        "        idx = sorted(np.random.permutation(\n",
        "                  index_np[(times_np > t0) & (times_np < t1)]\n",
        "              )[:max_points_num])\n",
        "\n",
        "        obs_ = obs[idx]\n",
        "        ts_ = times[idx]\n",
        "        return obs_, ts_\n",
        "\n",
        "    optimizer = torch.optim.Adam(trained.parameters(), lr=0.01)\n",
        "    for i in range(n_steps):\n",
        "        obs_, ts_ = create_batch()\n",
        "\n",
        "        z_ = trained(obs_[0], ts_, return_whole_sequence=True)\n",
        "        loss = F.mse_loss(z_, obs_.detach())\n",
        "\n",
        "        optimizer.zero_grad()\n",
        "        loss.backward(retain_graph=True)\n",
        "        optimizer.step()\n",
        "\n",
        "        if i % plot_freq == 0:\n",
        "            z_p = trained(z0, times, return_whole_sequence=True)\n",
        "            print(\"Epoch:\", i)\n",
        "            plot_trajectories(obs=[obs], times=[times], trajs=[z_p])\n",
        "            clear_output(wait=True)"
      ]
    },
    {
      "cell_type": "markdown",
      "metadata": {
        "id": "AkufIg0hLRTX"
      },
      "source": [
        "Examples"
      ]
    },
    {
      "cell_type": "code",
      "execution_count": 115,
      "metadata": {
        "colab": {
          "base_uri": "https://localhost:8080/",
          "height": 345
        },
        "id": "pI2IECiZJSEY",
        "outputId": "78772880-5627-49ab-c522-f461ce63e55c"
      },
      "outputs": [
        {
          "name": "stdout",
          "output_type": "stream",
          "text": [
            "Epoch: 0\n"
          ]
        },
        {
          "data": {
            "image/png": "[encoded data removed]",
            "text/plain": [
              "<Figure size 1152x576 with 1 Axes>"
            ]
          },
          "metadata": {
            "needs_background": "light"
          },
          "output_type": "display_data"
        }
      ],
      "source": [
        "true = HelperClass(SpiralFunctionExample())\n",
        "trained = HelperClass(RandomParams())\n",
        "\n",
        "\n",
        "func = Test(Tensor([[-0.1, -0.5], [0.5, -0.1]]), \n",
        "            Tensor([[0.2, 1.], [-1, 0.2]]), \n",
        "            Tensor([[-1., 0.]]))\n",
        "\n",
        "true = HelperClass(func)\n",
        "\n",
        "func = DynamicsBlock(2, 16, time_invariant=True)\n",
        "\n",
        "trained = HelperClass(func)\n",
        "\n",
        "test_out(true, trained, 1, plot_freq = 1)"
      ]
    },
    {
      "cell_type": "markdown",
      "metadata": {
        "id": "gWLXqFxKzR7q"
      },
      "source": [
        "# PREY-PREDATOR"
      ]
    },
    {
      "cell_type": "code",
      "execution_count": 116,
      "metadata": {
        "id": "L9A-1M8rzRDZ"
      },
      "outputs": [
        {
          "data": {
            "image/png": "[encoded data removed]",
            "text/plain": [
              "<Figure size 432x288 with 2 Axes>"
            ]
          },
          "metadata": {
            "needs_background": "light"
          },
          "output_type": "display_data"
        }
      ],
      "source": [
        "import numpy as np\n",
        "import matplotlib.pyplot as plt\n",
        "from scipy.integrate import odeint\n",
        "import sys\n",
        "\n",
        "y0 = [10,1]\n",
        "\n",
        "t = np.linspace(0,50,num=1001)\n",
        "\n",
        "alpha = 1.1\n",
        "\n",
        "beta = 0.4\n",
        "delta = 0.1\n",
        "gamma = 0.4\n",
        "\n",
        "\n",
        "params = [alpha, beta, delta, gamma]\n",
        "\n",
        "def sim(variables, t, params):\n",
        "    x = variables[0]\n",
        "    y = variables[1]\n",
        "\n",
        "\n",
        "    alpha = params[0]\n",
        "    beta = params[1]\n",
        "    delta = params[2]\n",
        "    gamma = params[3]\n",
        "\n",
        "    dxdt = alpha * x - beta * x * y\n",
        "    dydt = delta * x * y - gamma * y\n",
        "\n",
        "    return([dxdt, dydt])\n",
        "\n",
        "\n",
        "y = odeint(sim, y0, t, args=(params,))\n",
        "\n",
        "\n",
        "data_t = []\n",
        "data_fish = []\n",
        "data_bears = []\n",
        "\n",
        "for i in range(t.shape[0]):\n",
        "\n",
        "    if i%20==0:\n",
        "        data_t.append(t[i])\n",
        "        data_fish.append(np.random.normal(loc=y[i,0], scale=0.2,))\n",
        "        data_bears.append(np.random.normal(loc=y[i,1], scale=0.2,))\n",
        "\n",
        "\n",
        "f,(ax1,ax2) = plt.subplots(2)\n",
        "\n",
        "line1 = ax1.scatter(data_t,data_fish, c=\"b\")\n",
        "line2 = ax2.scatter(data_t,data_bears, c=\"r\")\n",
        "\n",
        "ax1.set_ylabel(\"Fish (hundreds)\")\n",
        "ax2.set_ylabel(\"Bears (hundreds)\")\n",
        "ax2.set_xlabel(\"Time (years)\")\n",
        "\n",
        "plt.show()\n",
        "\n",
        "f = open('pop_data.csv', \"w\")\n",
        "\n",
        "f.write(\"year,fish_hundreds,bears_hundreds\\n\")\n",
        "\n",
        "for i in range(len(data_t)):\n",
        "    f.write(\"%s,%s,%s\\n\" % (data_t[i],data_fish[i],data_bears[i]))\n",
        "\n",
        "f.close()"
      ]
    },
    {
      "cell_type": "markdown",
      "metadata": {
        "id": "dKa0DF091Ar-"
      },
      "source": [
        "# Fit data"
      ]
    },
    {
      "cell_type": "code",
      "execution_count": 117,
      "metadata": {
        "id": "zVBzsap30SkX"
      },
      "outputs": [
        {
          "name": "stdout",
          "output_type": "stream",
          "text": [
            "Optimization terminated successfully.\n",
            "         Current function value: 7.580814\n",
            "         Iterations: 281\n",
            "         Function evaluations: 483\n",
            "[0.93610595 0.37210855 0.12063639 0.48543369]\n"
          ]
        },
        {
          "data": {
            "image/png": "[encoded data removed]",
            "text/plain": [
              "<Figure size 432x288 with 2 Axes>"
            ]
          },
          "metadata": {
            "needs_background": "light"
          },
          "output_type": "display_data"
        }
      ],
      "source": [
        "import matplotlib.pyplot as plt\n",
        "import numpy as np\n",
        "import csv\n",
        "import scipy.optimize\n",
        "from scipy.integrate import odeint\n",
        "\n",
        "years = []\n",
        "fish_pop = []\n",
        "bears_pop = []\n",
        "\n",
        "with open(\"pop_data.csv\") as file:\n",
        "\n",
        "    reader = csv.reader(file, delimiter=',')\n",
        "    next(reader)\n",
        "\n",
        "    for row in reader:\n",
        "        years.append(float(row[0]))\n",
        "        fish_pop.append(float(row[1]))\n",
        "        bears_pop.append(float(row[2]))\n",
        "\n",
        "\n",
        "f,(ax1,ax2) = plt.subplots(2)\n",
        "\n",
        "line1 = ax1.scatter(years,fish_pop, c=\"b\")\n",
        "line2 = ax2.scatter(years,bears_pop, c=\"r\")\n",
        "\n",
        "ax1.set_ylabel(\"Fish (hundreds)\")\n",
        "ax2.set_ylabel(\"Bears (hundreds)\")\n",
        "ax2.set_xlabel(\"Time\")\n",
        "\n",
        "def sim(variables, t, params):\n",
        "    x = variables[0]\n",
        "    y = variables[1]\n",
        "    \n",
        "    alpha = params[0]\n",
        "    beta = params[1]\n",
        "    delta = params[2]\n",
        "    gamma = params[3]\n",
        "\n",
        "    dxdt = alpha * x - beta * x * y\n",
        "    dydt = delta * x * y - gamma * y\n",
        "\n",
        "    return([dxdt, dydt])\n",
        "\n",
        "\n",
        "def loss_function(params, years,fish_pop, bears_pop):\n",
        "\n",
        "    y0 = [fish_pop[0], bears_pop[0]]\n",
        "\n",
        "    t = np.linspace(years[0], years[-1], num=len(years))\n",
        "\n",
        "    output = odeint(sim, y0, t, args=(params,))\n",
        "\n",
        "    loss = 0\n",
        "\n",
        "    for i in range(len(years)):\n",
        "        data_fish = fish_pop[i]\n",
        "        model_fish = output[i,0]\n",
        "\n",
        "        data_bears = bears_pop[i]\n",
        "        model_bears = output[i,1]\n",
        "\n",
        "        res = (data_fish - model_fish)**2 + (data_bears - model_bears)**2\n",
        "\n",
        "        loss += res\n",
        "\n",
        "    return(loss)\n",
        "\n",
        "\n",
        "params0 = np.array([1,1,1,1])\n",
        "minimum = scipy.optimize.fmin(loss_function, params0, args=(years,fish_pop, bears_pop))\n",
        "\n",
        "print(minimum)\n",
        "\n",
        "alpha_fit = minimum[0]\n",
        "beta_fit = minimum[1]\n",
        "delta_fit = minimum[2]\n",
        "gamma_fit = minimum[3]\n",
        "\n",
        "params = [alpha_fit, beta_fit, delta_fit, gamma_fit]\n",
        "\n",
        "y0 = [fish_pop[0], bears_pop[0]]\n",
        "\n",
        "t = np.linspace(years[0], years[-1], num=1000)\n",
        "output = odeint(sim, y0, t, args=(params,))\n",
        "\n",
        "line1, = ax1.plot(t,output[:,0], color=\"b\")\n",
        "line2, = ax2.plot(t,output[:,1], color=\"r\")\n",
        "\n",
        "ax1.set_ylabel(\"Fish (hundreds)\")\n",
        "ax2.set_ylabel(\"Bears (hundreds)\")\n",
        "ax2.set_xlabel(\"Time\")\n",
        "\n",
        "plt.show()"
      ]
    },
    {
      "attachments": {},
      "cell_type": "markdown",
      "metadata": {},
      "source": [
        "# RNN"
      ]
    },
    {
      "cell_type": "code",
      "execution_count": null,
      "metadata": {},
      "outputs": [],
      "source": []
    }
  ],
  "metadata": {
    "colab": {
      "collapsed_sections": [
        "Ki6PgUkvj_u8",
        "L7qzZ793kF18"
      ],
      "provenance": []
    },
    "kernelspec": {
      "display_name": "base",
      "language": "python",
      "name": "python3"
    },
    "language_info": {
      "codemirror_mode": {
        "name": "ipython",
        "version": 3
      },
      "file_extension": ".py",
      "mimetype": "text/x-python",
      "name": "python",
      "nbconvert_exporter": "python",
      "pygments_lexer": "ipython3",
      "version": "3.8.5 (default, Sep  3 2020, 21:29:08) [MSC v.1916 64 bit (AMD64)]"
    },
    "vscode": {
      "interpreter": {
        "hash": "03f640e0a10ed2607783390e8f78d32d49ab46e622608c0d8f50e3ccd80c2036"
      }
    }
  },
  "nbformat": 4,
  "nbformat_minor": 0
}
